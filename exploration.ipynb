{
 "metadata": {
  "language_info": {
   "codemirror_mode": {
    "name": "ipython",
    "version": 3
   },
   "file_extension": ".py",
   "mimetype": "text/x-python",
   "name": "python",
   "nbconvert_exporter": "python",
   "pygments_lexer": "ipython3",
   "version": "3.8.6-final"
  },
  "orig_nbformat": 2,
  "kernelspec": {
   "name": "Python 3.8.6 64-bit ('.venv': venv)",
   "display_name": "Python 3.8.6 64-bit ('.venv': venv)",
   "metadata": {
    "interpreter": {
     "hash": "34bad27c2886c5845eee6141990ea05882822e11bae71530c9f6492008a8a64c"
    }
   }
  }
 },
 "nbformat": 4,
 "nbformat_minor": 2,
 "cells": [
  {
   "cell_type": "code",
   "execution_count": 198,
   "metadata": {},
   "outputs": [],
   "source": [
    "from mne.datasets import eegbci\n",
    "from mne.io import concatenate_raws, read_raw_edf\n",
    "from mne import Epochs, pick_types, events_from_annotations, concatenate_epochs\n",
    "import scipy.signal\n",
    "import matplotlib.pyplot as plt\n",
    "import numpy as np\n"
   ]
  },
  {
   "cell_type": "code",
   "execution_count": 199,
   "metadata": {},
   "outputs": [
    {
     "output_type": "stream",
     "name": "stdout",
     "text": [
      "Extracting EDF parameters from /Users/leakimgilbert/mne_data/MNE-eegbci-data/files/eegmmidb/1.0.0/S001/S001R04.edf...\n",
      "EDF file detected\n",
      "Setting channel info structure...\n",
      "Creating raw.info structure...\n",
      "Reading 0 ... 19999  =      0.000 ...   124.994 secs...\n",
      "Extracting EDF parameters from /Users/leakimgilbert/mne_data/MNE-eegbci-data/files/eegmmidb/1.0.0/S001/S001R08.edf...\n",
      "EDF file detected\n",
      "Setting channel info structure...\n",
      "Creating raw.info structure...\n",
      "Reading 0 ... 19999  =      0.000 ...   124.994 secs...\n",
      "Extracting EDF parameters from /Users/leakimgilbert/mne_data/MNE-eegbci-data/files/eegmmidb/1.0.0/S001/S001R12.edf...\n",
      "EDF file detected\n",
      "Setting channel info structure...\n",
      "Creating raw.info structure...\n",
      "Reading 0 ... 19999  =      0.000 ...   124.994 secs...\n",
      "Used Annotations descriptions: ['T0', 'T1', 'T2']\n",
      "Not setting metadata\n",
      "Not setting metadata\n",
      "90 matching events found\n",
      "Applying baseline correction (mode: mean)\n",
      "0 projection items activated\n",
      "Loading data for 90 events and 321 original time points ...\n",
      "3 bad epochs dropped\n",
      "Extracting EDF parameters from /Users/leakimgilbert/mne_data/MNE-eegbci-data/files/eegmmidb/1.0.0/S002/S002R04.edf...\n",
      "EDF file detected\n",
      "Setting channel info structure...\n",
      "Creating raw.info structure...\n",
      "Reading 0 ... 19679  =      0.000 ...   122.994 secs...\n",
      "Extracting EDF parameters from /Users/leakimgilbert/mne_data/MNE-eegbci-data/files/eegmmidb/1.0.0/S002/S002R08.edf...\n",
      "EDF file detected\n",
      "Setting channel info structure...\n",
      "Creating raw.info structure...\n",
      "Reading 0 ... 19679  =      0.000 ...   122.994 secs...\n",
      "Extracting EDF parameters from /Users/leakimgilbert/mne_data/MNE-eegbci-data/files/eegmmidb/1.0.0/S002/S002R12.edf...\n",
      "EDF file detected\n",
      "Setting channel info structure...\n",
      "Creating raw.info structure...\n",
      "Reading 0 ... 19679  =      0.000 ...   122.994 secs...\n",
      "Used Annotations descriptions: ['T0', 'T1', 'T2']\n",
      "Not setting metadata\n",
      "Not setting metadata\n",
      "90 matching events found\n",
      "Applying baseline correction (mode: mean)\n",
      "0 projection items activated\n",
      "Loading data for 90 events and 321 original time points ...\n",
      "3 bad epochs dropped\n",
      "Not setting metadata\n",
      "Not setting metadata\n",
      "174 matching events found\n",
      "Applying baseline correction (mode: mean)\n",
      "0 bad epochs dropped\n"
     ]
    }
   ],
   "source": [
    "%matplotlib inline\n",
    "subjects = [1, 2]\n",
    "runs = [4, 8, 12]\n",
    "selected_channels = [10, 4, 18, 12, 6, 20, 41, 26, 8] # CZ, FC2, CP2, C4, FC6, CP6, T8, AFZ, C3 (reference)\n",
    "EPOCH_DURATION = 2\n",
    "tmin = -0.5 * EPOCH_DURATION\n",
    "tmax = 0.5 * EPOCH_DURATION\n",
    "\n",
    "event_id = { \n",
    "    'T0': 1,\n",
    "    'T1': 2,\n",
    "    'T2': 3\n",
    "}\n",
    "\n",
    "\n",
    "all_subjects_epochs = []\n",
    "\n",
    "for subject in subjects:\n",
    "    raw_filename = eegbci.load_data(subject, runs)\n",
    "    raw_edf = concatenate_raws([read_raw_edf(f, preload=True) for f in raw_filename])\n",
    "    \n",
    "    eegbci.standardize(raw_edf) # channels name\n",
    "    raw_edf.rename_channels(lambda x: x.strip('.')) # remove dot from channel name\n",
    "    \n",
    "    raw_edf.pick(picks=selected_channels)\n",
    "    events, _ = events_from_annotations(raw_edf, event_id=event_id)\n",
    "    epochs = Epochs(raw_edf, events=events, event_id=event_id, tmin=tmin, tmax=tmax, preload=True, detrend=None)\n",
    "    all_subjects_epochs.append(epochs)\n",
    "\n",
    "epochs = concatenate_epochs(all_subjects_epochs)"
   ]
  },
  {
   "cell_type": "code",
   "execution_count": 200,
   "metadata": {},
   "outputs": [],
   "source": [
    "SAMPLING_FREQ = 160\n",
    "NYQUIST_FREQ = SAMPLING_FREQ/2\n",
    "WOR_N = 2056\n",
    "FREQ_BANDS = {\n",
    "    'alpha_beta': [7, 30],\n",
    "}\n",
    "\n",
    "epochs_sub_bands = dict.fromkeys(FREQ_BANDS.keys())\n",
    "kernels = dict.fromkeys(FREQ_BANDS.keys())\n",
    "\n",
    "for key, freq_range in FREQ_BANDS.items():\n",
    "    fig, ax = plt.subplots(figsize = (16, 8))\n",
    "    lower_bound = freq_range[0]/NYQUIST_FREQ\n",
    "    upper_bound = freq_range[1]/NYQUIST_FREQ\n",
    "    hz = np.linspace(0, NYQUIST_FREQ, WOR_N)\n",
    "    ideal_filter = [1 if freq_range[0] <= f <= freq_range[1] else 0 for f in hz]\n",
    "    ax.plot(hz, ideal_filter, label=\"Ideal filter\")\n",
    "    kernels[key] = {}\n",
    "    for order in range(3,15):\n",
    "        b, a = scipy.signal.butter(order, [lower_bound, upper_bound], btype='bandpass')\n",
    "        w, h = scipy.signal.freqz(b, a, worN=WOR_N)\n",
    "        ax.plot(hz, abs(h), label=f\"Order {order}\")\n",
    "        ax.set_ylim([0, 1.5])\n",
    "        ax.set_xlim([freq_range[0] - 5, freq_range[1] + 5])\n",
    "        kernels[key][order] = (b, a)\n",
    "\n",
    "    ax.legend()\n",
    "    ax.set_title(f\"Frequency response of different orders for passband {key} {freq_range} Hz\")\n",
    "    ax.set_xlabel(\"Frequency (Hz)\")\n",
    "    ax.set_ylabel(\"Gain\")\n",
    "    plt.show()"
   ]
  },
  {
   "cell_type": "code",
   "execution_count": 201,
   "metadata": {},
   "outputs": [
    {
     "output_type": "execute_result",
     "data": {
      "text/plain": [
       "[<matplotlib.lines.Line2D at 0x13109ff70>]"
      ]
     },
     "metadata": {},
     "execution_count": 201
    }
   ],
   "source": [
    "ORDERS = {\n",
    "    'alpha_beta': 11,\n",
    "}\n",
    "\n",
    "for key, freq_range in FREQ_BANDS.items():\n",
    "    l_freq = freq_range[0]/NYQUIST_FREQ\n",
    "    h_freq = freq_range[1]/NYQUIST_FREQ\n",
    "    b = kernels[key][ORDERS[key]][0]\n",
    "    a = kernels[key][ORDERS[key]][1]\n",
    "    epochs_sub_bands[key] = epochs.copy().filter(l_freq=l_freq, h_freq=h_freq, method='iir', n_jobs=-1, iir_params = {'order': order, 'ftype': 'butter','a': a,'b': b}, verbose=False)\n",
    "\n",
    "fig, ax = plt.subplots(figsize=(19,6))\n",
    "\n",
    "original_epoch = epochs['T0'][0].get_data().squeeze()[0]\n",
    "x = np.linspace(0.0, EPOCH_DURATION, len(original_epoch))\n",
    "ax.plot(x, original_epoch, label=\"Original signal\")\n",
    "\n",
    "reconstituted_signal = np.zeros(len(original_epoch))\n",
    "for key in FREQ_BANDS.keys():\n",
    "    reconstituted_signal += epochs_sub_bands[key]['T0'][0].get_data().squeeze()[0]\n",
    "\n",
    "ax.plot(x, reconstituted_signal, label=\"Reconstituted signal\")\n",
    "\n",
    "# epochs.filter(7., 30., method='iir', iir_params=None, skip_by_annotation='edge') # keep alpha and beta band with 4th Butterworth"
   ]
  },
  {
   "cell_type": "code",
   "execution_count": null,
   "metadata": {},
   "outputs": [],
   "source": [
    "l_freq = FREQ_BANDS['alpha_beta'][0]/NYQUIST_FREQ\n",
    "h_freq = FREQ_BANDS['alpha_beta'][1]/NYQUIST_FREQ\n",
    "b = kernels['alpha_beta'][ORDERS['alpha_beta']][0]\n",
    "a = kernels['alpha_beta'][ORDERS['alpha_beta']][1]\n",
    "filtered_epochs = epochs.copy().filter(l_freq=l_freq, h_freq=h_freq, method='iir', n_jobs=-1, iir_params = {'order': order, 'ftype': 'butter','a': a,'b': b}, verbose=False)\n",
    "\n",
    "epochs.plot()"
   ]
  }
 ]
}